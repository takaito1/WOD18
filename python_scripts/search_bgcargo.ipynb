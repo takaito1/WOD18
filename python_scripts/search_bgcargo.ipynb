{
 "cells": [
  {
   "cell_type": "markdown",
   "id": "c4508e67",
   "metadata": {},
   "source": [
    "# Search and Download Argo floats data with DOXY\n",
    "\n",
    "This script will read in the synthetic profile index, and check what profile contains DOXY, and downloads the data into data/ folder. \n",
    "\n",
    "This script requires wget on the system. (https://anaconda.org/anaconda/wget)"
   ]
  },
  {
   "cell_type": "code",
   "execution_count": 1,
   "id": "cfe331ba",
   "metadata": {},
   "outputs": [],
   "source": [
    "import os\n",
    "import numpy as np\n",
    "import pandas as pd\n",
    "pd.set_option('display.max_rows', 500)\n",
    "pd.set_option('display.max_columns', 500)\n",
    "pd.set_option('display.width', 1000)"
   ]
  },
  {
   "cell_type": "code",
   "execution_count": 2,
   "id": "e2bd450e",
   "metadata": {},
   "outputs": [
    {
     "data": {
      "text/plain": [
       "1024"
      ]
     },
     "execution_count": 2,
     "metadata": {},
     "output_type": "execute_result"
    }
   ],
   "source": [
    "# copy the synthetic profile index\n",
    "os.system('wget https://data-argo.ifremer.fr/argo_synthetic-profile_index.txt .')\n",
    "os.system('mkdir -p data')"
   ]
  },
  {
   "cell_type": "code",
   "execution_count": 3,
   "id": "15f87f7b",
   "metadata": {},
   "outputs": [],
   "source": [
    "# read in the index file and look for the DOXY profiles\n",
    "df=pd.read_csv('argo_synthetic-profile_index.txt',skiprows=8)\n",
    "a=df['parameters'].str.contains('DOXY')\n",
    "files=df['file'][a==True]\n",
    "b=files.str.split('/').to_numpy()"
   ]
  },
  {
   "cell_type": "code",
   "execution_count": 6,
   "id": "cfd7b441",
   "metadata": {},
   "outputs": [],
   "source": [
    "# generate two numpy arrays: Sfiles and fltid\n",
    "N=np.size(b)\n",
    "N_prof=N\n",
    "Sfiles=np.empty((N,),dtype=np.dtype('U100'))\n",
    "# Sfiles contain the location of synthetic profile data\n",
    "fltid=np.empty((N,))\n",
    "# fltid contains the integer float WMO ID\n",
    "for n in range(0,N):\n",
    "    rowloc=b[n]\n",
    "    fltid[n]=rowloc[1]\n",
    "    Sfiles[n]='/dac/'+rowloc[0]+'/'+str(int(fltid[n]))+'/'+str(int(fltid[n]))+'_Sprof.nc'"
   ]
  },
  {
   "cell_type": "code",
   "execution_count": 8,
   "id": "456d97cd",
   "metadata": {},
   "outputs": [],
   "source": [
    "# Remove duplicates\n",
    "Sfile_noduplicate=np.unique(Sfiles)\n",
    "N=np.size(Sfile_noduplicate)\n",
    "N_flt=N"
   ]
  },
  {
   "cell_type": "code",
   "execution_count": 10,
   "id": "73b83b44",
   "metadata": {},
   "outputs": [
    {
     "name": "stdout",
     "output_type": "stream",
     "text": [
      "--- file check complete ---\n"
     ]
    }
   ],
   "source": [
    "# Check if the file exists, if the file exists, download it to local disk\n",
    "checkfile=np.empty((N,),dtype=np.dtype('?'))\n",
    "for n in range(0,N):\n",
    "#    checkfile[n]=os.path.exists(Sfile_noduplicate[n])\n",
    "#    if (checkfile[n]==True):\n",
    "#        print(Sfile_noduplicate[n]+' is found and copied to data folder')\n",
    "        com='wget https://data-argo.ifremer.fr'+Sfile_noduplicate[n]\n",
    "        os.system(com)\n",
    "        os.system('mv *.nc data/.')\n",
    "#    else:\n",
    "#        print('!!!'+Sfile_noduplicate[n]+' does not exist!!!')\n",
    "print('--- file search and download complete ---')"
   ]
  },
  {
   "cell_type": "code",
   "execution_count": 9,
   "id": "dd029fe3",
   "metadata": {},
   "outputs": [
    {
     "data": {
      "text/plain": [
       "array(['/dac/aoml/1900722/1900722_Sprof.nc',\n",
       "       '/dac/aoml/1901378/1901378_Sprof.nc',\n",
       "       '/dac/aoml/1901379/1901379_Sprof.nc', ...,\n",
       "       '/dac/meds/4902553/4902553_Sprof.nc',\n",
       "       '/dac/meds/4902554/4902554_Sprof.nc',\n",
       "       '/dac/meds/4902555/4902555_Sprof.nc'], dtype='<U100')"
      ]
     },
     "execution_count": 9,
     "metadata": {},
     "output_type": "execute_result"
    }
   ],
   "source": [
    "Sfile_noduplicate"
   ]
  },
  {
   "cell_type": "code",
   "execution_count": null,
   "id": "1ea7de63",
   "metadata": {},
   "outputs": [],
   "source": []
  }
 ],
 "metadata": {
  "kernelspec": {
   "display_name": "Python 3 (ipykernel)",
   "language": "python",
   "name": "python3"
  },
  "language_info": {
   "codemirror_mode": {
    "name": "ipython",
    "version": 3
   },
   "file_extension": ".py",
   "mimetype": "text/x-python",
   "name": "python",
   "nbconvert_exporter": "python",
   "pygments_lexer": "ipython3",
   "version": "3.8.12"
  }
 },
 "nbformat": 4,
 "nbformat_minor": 5
}
