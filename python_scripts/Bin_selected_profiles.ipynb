{
 "cells": [
  {
   "cell_type": "markdown",
   "id": "b452833c",
   "metadata": {},
   "source": [
    "# Binning the selected profiles\n",
    "\n",
    "QC criteria is entered to select certain profiles, then it generates binned data at standard depth levels\n",
    "\n",
    "(1) binning adjusted O2 profiles (monthly)\n",
    "\n",
    "(2) calculate statistical mean, standard deviation, sample count\n"
   ]
  },
  {
   "cell_type": "code",
   "execution_count": 1,
   "id": "e8cb6efd",
   "metadata": {},
   "outputs": [],
   "source": [
    "import numpy as np\n",
    "import matplotlib.pyplot as plt\n",
    "import xarray as xr\n",
    "import pandas as pd\n",
    "import os\n",
    "import re\n",
    "pd.set_option('display.max_rows', 500)\n",
    "pd.set_option('display.max_columns', 500)\n",
    "pd.set_option('display.width', 1000)"
   ]
  },
  {
   "cell_type": "code",
   "execution_count": 2,
   "id": "c62854ff",
   "metadata": {},
   "outputs": [],
   "source": [
    "# prepare grid cells\n",
    "xW=np.arange(-180,180,1)\n",
    "yS=np.arange(-90,90,1)\n",
    "xC=np.arange(-180,180,1)+0.5\n",
    "yC=np.arange(-90,90,1)+0.5\n",
    "xE=np.arange(-180,180,1)+1.0\n",
    "yN=np.arange(-90,90,1)+1.0\n",
    "# time axis\n",
    "Y=np.arange(2010,2021,1)\n",
    "M=np.arange(1,13,1)\n",
    "# empty array\n",
    "mn=np.empty((360,180,26,12,np.size(Y))) # stat mean\n",
    "sd=np.empty((360,180,26,12,np.size(Y))) # stdev\n",
    "dd=np.empty((360,180,26,12,np.size(Y))) # count"
   ]
  },
  {
   "cell_type": "code",
   "execution_count": 3,
   "id": "cf74e0fe",
   "metadata": {},
   "outputs": [],
   "source": [
    "# read in the summary statistics\n",
    "df=pd.read_csv('float_summary_statsitics.csv')\n",
    "rmse=df['RMSE_ADJ(500-2000m)'][:]\n",
    "rmse0=df['RMSE_ADJ(0-2000m)'][:]"
   ]
  },
  {
   "cell_type": "code",
   "execution_count": 4,
   "id": "ca796a62",
   "metadata": {},
   "outputs": [
    {
     "data": {
      "image/png": "[encoded data removed]",
      "text/plain": [
       "<Figure size 432x288 with 1 Axes>"
      ]
     },
     "metadata": {
      "needs_background": "light"
     },
     "output_type": "display_data"
    },
    {
     "name": "stdout",
     "output_type": "stream",
     "text": [
      "based on 500-2000m RMSE data\n",
      "there are  1528  DOXY profiles\n",
      "there are  206  acceptable profiles (rmse < 10uM)\n"
     ]
    }
   ],
   "source": [
    "# find very good ones\n",
    "ind=np.where(rmse<=10)\n",
    "#\n",
    "bins=np.linspace(0,30,20)\n",
    "hdat=plt.hist(rmse,bins)\n",
    "plt.title('histogram of RMSE for 500-2000m')\n",
    "plt.xlabel('RMSE, micro mol/kg')\n",
    "plt.ylabel('frequency')\n",
    "plt.show()\n",
    "fn=df['File'].to_numpy()\n",
    "print('based on 500-2000m RMSE data')\n",
    "print('there are ',np.size(rmse),' DOXY profiles')\n",
    "print('there are ',np.size(ind),' acceptable profiles (rmse < 10uM)')\n",
    "plt.show()"
   ]
  },
  {
   "cell_type": "code",
   "execution_count": 5,
   "id": "44180eaa",
   "metadata": {},
   "outputs": [
    {
     "data": {
      "image/png": "[encoded data removed]",
      "text/plain": [
       "<Figure size 432x288 with 1 Axes>"
      ]
     },
     "metadata": {
      "needs_background": "light"
     },
     "output_type": "display_data"
    },
    {
     "name": "stdout",
     "output_type": "stream",
     "text": [
      "based on 0-2000m and 500-2000m RMSE data\n",
      "there are  100  acceptable profiles (rmse < 15uM for 0-2000m, and 10 for 500-2000m)\n"
     ]
    }
   ],
   "source": [
    "# find very good ones\n",
    "ind=np.where((rmse0<=15)&(rmse<10))\n",
    "#\n",
    "bins=np.linspace(0,30,20)\n",
    "hdat=plt.hist(rmse0,bins)\n",
    "plt.title('histogram of RMSE for 0-2000m')\n",
    "plt.xlabel('RMSE, micro mol/kg')\n",
    "plt.ylabel('frequency')\n",
    "plt.show()\n",
    "fn=df['File'].to_numpy()\n",
    "print('based on 0-2000m and 500-2000m RMSE data')\n",
    "print('there are ',np.size(ind),' acceptable profiles (rmse < 15uM for 0-2000m, and 10 for 500-2000m)')\n",
    "plt.show()"
   ]
  },
  {
   "cell_type": "code",
   "execution_count": 6,
   "id": "9dcedd9e",
   "metadata": {},
   "outputs": [],
   "source": [
    "def gen_stats(n): \n",
    "    # open the data file\n",
    "    fltid=re.findall('\\d+',fn[n])\n",
    "    print('reading in '+fn[n])\n",
    "    ds=xr.open_dataset(fn[n])\n",
    "    Ns=np.shape(ds.O2_FLT) # profile, depth\n",
    "    date=ds['JULD']\n",
    "    time=pd.to_datetime(date)\n",
    "    for p in range(0,Ns[0]):\n",
    "        O2_FLT=ds.O2_FLT[p,:]\n",
    "        x0=ds.LONGITUDE[p].data\n",
    "        y0=ds.LATITUDE[p].data\n",
    "        yr=int(time[p].year)\n",
    "        mo=int(time[p].month)\n",
    "        ix=np.where((x0>=xW)&(x0<xE))\n",
    "        iy=np.where((y0>=yS)&(y0<yN))\n",
    "        iyr=np.where((yr==Y))[0]\n",
    "        imo=np.where((mo==M))[0]\n",
    "        if (iyr.size>0):\n",
    "            #print('(i,j,imo,iyr)=',str([ix,iy,imo,iyr]))\n",
    "            for k in range(0,26):\n",
    "                if (np.isnan(O2_FLT[k])==False):\n",
    "                    mn[ix,iy,k,imo,iyr]=np.squeeze(mn[ix,iy,k,imo,iyr])+O2_FLT[k]\n",
    "                    sd[ix,iy,k,imo,iyr]=np.squeeze(sd[ix,iy,k,imo,iyr])+O2_FLT[k]**2\n",
    "                    dd[ix,iy,k,imo,iyr]=np.squeeze(dd[ix,iy,k,imo,iyr])+1\n",
    "                    \n",
    "    return ds"
   ]
  },
  {
   "cell_type": "code",
   "execution_count": 7,
   "id": "fc96f48e",
   "metadata": {},
   "outputs": [
    {
     "name": "stdout",
     "output_type": "stream",
     "text": [
      "reading in compare_woa/1900722_26lev.nc\n",
      "reading in compare_woa/1901152_26lev.nc\n",
      "reading in compare_woa/1901153_26lev.nc\n",
      "reading in compare_woa/1901154_26lev.nc\n",
      "reading in compare_woa/1901158_26lev.nc\n",
      "reading in compare_woa/1901159_26lev.nc\n",
      "reading in compare_woa/2901555_26lev.nc\n",
      "reading in compare_woa/2902210_26lev.nc\n",
      "reading in compare_woa/2902211_26lev.nc\n",
      "reading in compare_woa/2902757_26lev.nc\n",
      "reading in compare_woa/2902762_26lev.nc\n",
      "reading in compare_woa/2902823_26lev.nc\n",
      "reading in compare_woa/3901999_26lev.nc\n",
      "reading in compare_woa/3902114_26lev.nc\n",
      "reading in compare_woa/3902120_26lev.nc\n",
      "reading in compare_woa/3902130_26lev.nc\n",
      "reading in compare_woa/3902132_26lev.nc\n",
      "reading in compare_woa/4900484_26lev.nc\n",
      "reading in compare_woa/4900485_26lev.nc\n",
      "reading in compare_woa/4900487_26lev.nc\n",
      "reading in compare_woa/5901315_26lev.nc\n",
      "reading in compare_woa/5901316_26lev.nc\n",
      "reading in compare_woa/5901317_26lev.nc\n",
      "reading in compare_woa/5901491_26lev.nc\n",
      "reading in compare_woa/5901696_26lev.nc\n",
      "reading in compare_woa/5901697_26lev.nc\n",
      "reading in compare_woa/5901730_26lev.nc\n",
      "reading in compare_woa/5901736_26lev.nc\n",
      "reading in compare_woa/5901740_26lev.nc\n",
      "reading in compare_woa/5901741_26lev.nc\n",
      "reading in compare_woa/5902105_26lev.nc\n",
      "reading in compare_woa/5903257_26lev.nc\n",
      "reading in compare_woa/5903258_26lev.nc\n",
      "reading in compare_woa/5903382_26lev.nc\n",
      "reading in compare_woa/5903592_26lev.nc\n",
      "reading in compare_woa/5903593_26lev.nc\n",
      "reading in compare_woa/5903629_26lev.nc\n",
      "reading in compare_woa/5903656_26lev.nc\n",
      "reading in compare_woa/5903723_26lev.nc\n",
      "reading in compare_woa/5903887_26lev.nc\n",
      "reading in compare_woa/5904465_26lev.nc\n",
      "reading in compare_woa/5904466_26lev.nc\n",
      "reading in compare_woa/5904475_26lev.nc\n",
      "reading in compare_woa/5904477_26lev.nc\n",
      "reading in compare_woa/5904487_26lev.nc\n",
      "reading in compare_woa/5904882_26lev.nc\n",
      "reading in compare_woa/5905165_26lev.nc\n",
      "reading in compare_woa/5905167_26lev.nc\n",
      "reading in compare_woa/5905194_26lev.nc\n",
      "reading in compare_woa/5905198_26lev.nc\n",
      "reading in compare_woa/5905397_26lev.nc\n",
      "reading in compare_woa/5905441_26lev.nc\n",
      "reading in compare_woa/5905442_26lev.nc\n",
      "reading in compare_woa/5905993_26lev.nc\n",
      "reading in compare_woa/5906005_26lev.nc\n",
      "reading in compare_woa/5906034_26lev.nc\n",
      "reading in compare_woa/5906204_26lev.nc\n",
      "reading in compare_woa/5906208_26lev.nc\n",
      "reading in compare_woa/5906222_26lev.nc\n",
      "reading in compare_woa/5906301_26lev.nc\n",
      "reading in compare_woa/5906635_26lev.nc\n",
      "reading in compare_woa/5906645_26lev.nc\n",
      "reading in compare_woa/6900944_26lev.nc\n",
      "reading in compare_woa/6901467_26lev.nc\n",
      "reading in compare_woa/6901490_26lev.nc\n",
      "reading in compare_woa/6901764_26lev.nc\n",
      "reading in compare_woa/6901766_26lev.nc\n",
      "reading in compare_woa/6901768_26lev.nc\n",
      "reading in compare_woa/6901771_26lev.nc\n",
      "reading in compare_woa/6901773_26lev.nc\n",
      "reading in compare_woa/6901865_26lev.nc\n",
      "reading in compare_woa/6901886_26lev.nc\n",
      "reading in compare_woa/6902547_26lev.nc\n",
      "reading in compare_woa/6902549_26lev.nc\n",
      "reading in compare_woa/6902828_26lev.nc\n",
      "reading in compare_woa/6902879_26lev.nc\n",
      "reading in compare_woa/6902984_26lev.nc\n",
      "reading in compare_woa/6903124_26lev.nc\n",
      "reading in compare_woa/6903204_26lev.nc\n",
      "reading in compare_woa/6903225_26lev.nc\n",
      "reading in compare_woa/6903273_26lev.nc\n",
      "reading in compare_woa/6903550_26lev.nc\n",
      "reading in compare_woa/6903551_26lev.nc\n",
      "reading in compare_woa/6903553_26lev.nc\n",
      "reading in compare_woa/6903554_26lev.nc\n",
      "reading in compare_woa/6903556_26lev.nc\n",
      "reading in compare_woa/6903557_26lev.nc\n",
      "reading in compare_woa/6903558_26lev.nc\n",
      "reading in compare_woa/6903567_26lev.nc\n",
      "reading in compare_woa/6903568_26lev.nc\n",
      "reading in compare_woa/6903569_26lev.nc\n",
      "reading in compare_woa/6903572_26lev.nc\n",
      "reading in compare_woa/6903573_26lev.nc\n",
      "reading in compare_woa/6903574_26lev.nc\n",
      "reading in compare_woa/6903575_26lev.nc\n",
      "reading in compare_woa/6903577_26lev.nc\n",
      "reading in compare_woa/6903582_26lev.nc\n",
      "reading in compare_woa/6903799_26lev.nc\n",
      "reading in compare_woa/6903802_26lev.nc\n",
      "reading in compare_woa/6903874_26lev.nc\n"
     ]
    }
   ],
   "source": [
    "# run through all of the good profiles\n",
    "for n in range(0,np.size(ind)):\n",
    "    gen_stats(ind[0][n])"
   ]
  },
  {
   "cell_type": "code",
   "execution_count": 8,
   "id": "dd6c1e89",
   "metadata": {},
   "outputs": [
    {
     "name": "stderr",
     "output_type": "stream",
     "text": [
      "/var/folders/s6/962q46653xd_fxwlc18l0t8w00bhjp/T/ipykernel_94772/2706152541.py:1: RuntimeWarning: invalid value encountered in true_divide\n",
      "  mn=mn/dd\n"
     ]
    }
   ],
   "source": [
    "# calculate mean\n",
    "mn=mn/dd"
   ]
  },
  {
   "cell_type": "code",
   "execution_count": 9,
   "id": "c68a3872",
   "metadata": {},
   "outputs": [
    {
     "name": "stderr",
     "output_type": "stream",
     "text": [
      "/var/folders/s6/962q46653xd_fxwlc18l0t8w00bhjp/T/ipykernel_94772/1736079068.py:1: RuntimeWarning: invalid value encountered in true_divide\n",
      "  sd=np.sqrt(sd/dd - mn**2)\n"
     ]
    }
   ],
   "source": [
    "# calculate standard deviation\n",
    "sd=np.sqrt(sd/dd - mn**2)"
   ]
  },
  {
   "cell_type": "code",
   "execution_count": 20,
   "id": "f8d7bf25",
   "metadata": {},
   "outputs": [],
   "source": [
    "# save the result\n",
    "zstd=np.array([0,10,20,30,50,75,100,125,150,200,250,300,400,\n",
    "               500,600,700,800,900,1000,1100,1200,1300,1400,\n",
    "               1500,1750,2000])\n",
    "time = pd.date_range(\"2010-01-01\", freq=\"M\", periods=np.size(Y)*12)\n",
    "o_mn=xr.DataArray( np.empty((360,180,26,(12*np.size(Y)))) ,  \n",
    "                       [(\"longitude\",xC),(\"latitude\",yC), \n",
    "                        (\"depth\",zstd),(\"time\",time) \n",
    "                       ],name='statistical mean of o2' )\n",
    "o_sd=xr.DataArray( np.empty((360,180,26,(12*np.size(Y)))) ,  \n",
    "                       [(\"longitude\",xC),(\"latitude\",yC), \n",
    "                        (\"depth\",zstd),(\"time\",time) \n",
    "                       ],name='standard deviation of o2' )\n",
    "o_dd=xr.DataArray( np.empty((360,180,26,(12*np.size(Y)))) ,  \n",
    "                       [(\"longitude\",xC),(\"latitude\",yC), \n",
    "                        (\"depth\",zstd),(\"time\",time) \n",
    "                       ],name='sample count' )\n",
    "for i in range(0,np.size(Y)):\n",
    "    for j in range(0,np.size(M)):\n",
    "        tind=12*(i-1)+j\n",
    "        o_mn[:,:,:,tind]=mn[:,:,:,j,i]        \n",
    "        o_sd[:,:,:,tind]=sd[:,:,:,j,i]        \n",
    "        o_dd[:,:,:,tind]=dd[:,:,:,j,i]        \n",
    "\n",
    "ds_out=xr.merge([o_mn,o_sd,o_dd])\n",
    "wn='o2_ARGO_woa09bin_26lev.nc'\n",
    "ds_out.to_netcdf(wn,mode='w')"
   ]
  }
 ],
 "metadata": {
  "kernelspec": {
   "display_name": "Python 3 (ipykernel)",
   "language": "python",
   "name": "python3"
  },
  "language_info": {
   "codemirror_mode": {
    "name": "ipython",
    "version": 3
   },
   "file_extension": ".py",
   "mimetype": "text/x-python",
   "name": "python",
   "nbconvert_exporter": "python",
   "pygments_lexer": "ipython3",
   "version": "3.8.12"
  }
 },
 "nbformat": 4,
 "nbformat_minor": 5
}
